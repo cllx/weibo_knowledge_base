{
 "cells": [
  {
   "cell_type": "code",
   "execution_count": 1,
   "metadata": {},
   "outputs": [
    {
     "name": "stdout",
     "output_type": "stream",
     "text": [
      "   (Alice)-[:KNOWS {}]->(Bob)\n"
     ]
    }
   ],
   "source": [
    "from py2neo.data import Node, Relationship\n",
    "a = Node(\"Person\", name=\"Alice\")\n",
    "b = Node(\"Person\", name=\"Bob\")\n",
    "ab = Relationship(a, \"KNOWS\", b)\n",
    "print('  ',ab)"
   ]
  },
  {
   "cell_type": "code",
   "execution_count": 2,
   "metadata": {},
   "outputs": [],
   "source": [
    "from py2neo import Graph,Node,Relationship,cypher\n",
    "from pandas import DataFrame\n",
    "##Graph  图\n",
    "test_graph = Graph('http://localhost:7474',username='neo4j',password='8611662')\n",
    "xiena = Node('kuailejiazu',name = '谢娜')\n",
    "test_graph.create(xiena)\n",
    "hejiong = Node('kuailejiazu',name = '何炅')\n",
    "test_graph.create(hejiong)\n",
    "weijia = Node('kuailejiazu',name = '维嘉')\n",
    "test_graph.create(weijia)\n",
    "haitao = Node('kuailejiazu',name = '海涛')\n",
    "test_graph.create(haitao)\n",
    "wuxin = Node('kuailejiazu',name = '吴昕')\n",
    "test_graph.create(wuxin)"
   ]
  },
  {
   "cell_type": "code",
   "execution_count": 3,
   "metadata": {},
   "outputs": [],
   "source": [
    "zhangjie = Node('kuailejiazu',name='张杰')\n",
    "test_graph.create(zhangjie)\n",
    "xiaofang = Node('kuailejiazu',name='小方')\n",
    "test_graph.create(xiaofang)\n",
    "r = Relationship(zhangjie,'朋友',xiaofang)\n",
    "test_graph.create(r)"
   ]
  },
  {
   "cell_type": "code",
   "execution_count": 7,
   "metadata": {},
   "outputs": [],
   "source": [
    "#test_graph.create(Relationship(test_graph.data(\"MATCH(a:kuailejiazu{name:'谢娜'}) return a \")[0]['a'],'朋友',test_graph.data(\"MATCH(b:kuailejiazu{name:'何炅'}) return b \")[0]['b']))\n",
    "test_graph.create(Relationship(test_graph.run(\"MATCH(a:kuailejiazu{name:'谢娜'}) return a \").data()[0]['a'],'朋友',test_graph.run(\"MATCH(b:kuailejiazu{name:'何炅'}) return b \").data()[0]['b']))\n",
    "test_graph.create(Relationship(test_graph.run(\"MATCH(a:kuailejiazu{name:'谢娜'}) return a \").data()[0]['a'],'朋友',test_graph.run(\"MATCH(b:kuailejiazu{name:'维嘉'}) return b \").data()[0]['b']))\n",
    "test_graph.create(Relationship(test_graph.run(\"MATCH(a:kuailejiazu{name:'谢娜'}) return a \").data()[0]['a'],'朋友',test_graph.run(\"MATCH(b:kuailejiazu{name:'海涛'}) return b \").data()[0]['b']))\n",
    "test_graph.create(Relationship(test_graph.run(\"MATCH(a:kuailejiazu{name:'谢娜'}) return a \").data()[0]['a'],'朋友',test_graph.run(\"MATCH(b:kuailejiazu{name:'吴昕'}) return b \").data()[0]['b']))\n",
    "test_graph.create(Relationship(test_graph.run(\"MATCH(a:kuailejiazu{name:'谢娜'}) return a \").data()[0]['a'],'夫妻',test_graph.run(\"MATCH(b:kuailejiazu{name:'张杰'}) return b \").data()[0]['b']))\n",
    "test_graph.create(Relationship(test_graph.run(\"MATCH(a:kuailejiazu{name:'谢娜'}) return a \").data()[0]['a'],'朋友',test_graph.run(\"MATCH(b:kuailejiazu{name:'小方'}) return b \").data()[0]['b']))"
   ]
  },
  {
   "cell_type": "code",
   "execution_count": 8,
   "metadata": {},
   "outputs": [
    {
     "name": "stdout",
     "output_type": "stream",
     "text": [
      "[{'n': (_7:kuailejiazu {name: '\\u5f20\\u6770'})}, {'n': (_14:kuailejiazu {name: '\\u5f20\\u6770'})}]\n"
     ]
    }
   ],
   "source": [
    "a = test_graph.run(\"Match(n:kuailejiazu) where n.name = '张杰' return n\").data()\n",
    "print (a)"
   ]
  },
  {
   "cell_type": "code",
   "execution_count": 9,
   "metadata": {},
   "outputs": [
    {
     "name": "stdout",
     "output_type": "stream",
     "text": [
      "                n\n",
      "0  {'name': '张杰'}\n",
      "1  {'name': '张杰'}\n"
     ]
    }
   ],
   "source": [
    "print (DataFrame(a))"
   ]
  },
  {
   "cell_type": "code",
   "execution_count": 10,
   "metadata": {},
   "outputs": [
    {
     "name": "stdout",
     "output_type": "stream",
     "text": [
      "              end\n",
      "0  {'name': '小方'}\n",
      "1  {'name': '吴昕'}\n",
      "2  {'name': '海涛'}\n",
      "3  {'name': '维嘉'}\n",
      "4  {'name': '何炅'}\n"
     ]
    }
   ],
   "source": [
    "b = test_graph.run(\"MATCH(n:kuailejiazu)-[:朋友]->(end:kuailejiazu) where n.name='谢娜' return end\").data()\n",
    "print(DataFrame(b))"
   ]
  },
  {
   "cell_type": "code",
   "execution_count": 11,
   "metadata": {},
   "outputs": [
    {
     "data": {
      "text/plain": [
       "[]"
      ]
     },
     "execution_count": 11,
     "metadata": {},
     "output_type": "execute_result"
    }
   ],
   "source": [
    "test_graph.run(\"Match(n:kuailejiazu{name:'额'}) delete n\").data()\n",
    "test_graph.run(\"Match(n:kuailejiazu) where n.name='额' delete n\").data()"
   ]
  },
  {
   "cell_type": "code",
   "execution_count": 12,
   "metadata": {},
   "outputs": [
    {
     "name": "stdout",
     "output_type": "stream",
     "text": [
      "[{'count(n)': 14}]\n"
     ]
    }
   ],
   "source": [
    "zongshu = test_graph.run(\"match(n:kuailejiazu) return count(n)\").data()\n",
    "print(zongshu)"
   ]
  },
  {
   "cell_type": "code",
   "execution_count": 13,
   "metadata": {},
   "outputs": [
    {
     "name": "stdout",
     "output_type": "stream",
     "text": [
      "谢娜\n",
      "1981/5/6\n"
     ]
    }
   ],
   "source": [
    "a = test_graph.run(\"MATCH(a:kuailejiazu{name:'谢娜'}) return a \").data()[0]['a']\n",
    "a['time'] = '1981/5/6'\n",
    "print(a['name'])\n",
    "print(a['time'])"
   ]
  },
  {
   "cell_type": "code",
   "execution_count": null,
   "metadata": {},
   "outputs": [],
   "source": [
    "# 如果在本地，可以直接把文件放到import文件夹中直接输入\n",
    "# file:///xxx.csv\n",
    "\n",
    "# 直接从csv中加载文件\n",
    "# LOAD CSV WITH HEADERS FROM \"http://data.neo4j.com/northwind/products.csv\" AS row\n",
    "\n",
    "# load csv 中文编码乱码,  必须确保csv文件的编码格式：UTF8 无BOM格式\n",
    "\n",
    "# neo4j-import --into testnodes.db --id-type string --nodes: E:\\neo4j\\import\\nodes_test.csv --relationships: E:\\neo4j\\import\\relationship_test.csv\n",
    "# neo4j-admin import --mode=csv --database=test.db --nodes importdata\\nodes_test.csv --relationships importdata\\relationship_test.csv"
   ]
  }
 ],
 "metadata": {
  "kernelspec": {
   "display_name": "Python 3",
   "language": "python",
   "name": "python3"
  },
  "language_info": {
   "codemirror_mode": {
    "name": "ipython",
    "version": 3
   },
   "file_extension": ".py",
   "mimetype": "text/x-python",
   "name": "python",
   "nbconvert_exporter": "python",
   "pygments_lexer": "ipython3",
   "version": "3.6.4"
  }
 },
 "nbformat": 4,
 "nbformat_minor": 2
}
